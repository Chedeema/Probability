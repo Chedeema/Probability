{
 "cells": [
  {
   "cell_type": "markdown",
   "id": "f1131a8b-8a6d-4861-8e43-87f8df4a384b",
   "metadata": {},
   "source": [
    "# Probability"
   ]
  },
  {
   "cell_type": "markdown",
   "id": "3415c1e7-b5c6-429f-b2d5-1cc14f5aa617",
   "metadata": {},
   "source": [
    "Probability is the study of randomness and uncertainty. It quantifies the likelihood of an event happening and is defined as a number between 0 and 1, where 0 indicates an impossible event and 1 represents a certain event.\n",
    "\n",
    "### Key Concepts:\n",
    "\n",
    "- Probability of an event (P): The chance that a specific event will occur.\n",
    "\n",
    "Formula: \n",
    "$ 𝑃(𝐴)=\n",
    "Number of favorable outcomes\n",
    "/Total number of possible outcomes $\n",
    "\n",
    "​\n",
    "Example: The probability of rolling a 3 on a fair 6-sided die is \n",
    "$ 𝑃(3)= 1/6 $\n",
    "\n",
    "\n",
    "- Complementary Probability: The probability that an event does not happen.\n",
    "\n",
    "$ 𝑃(not A)=1−𝑃(𝐴) $\n",
    "\n",
    "- Conditional Probability: The probability of event A happening given that event B has already occurred.\n",
    "\n",
    "Formula: \n",
    "$ 𝑃(𝐴∣𝐵)=𝑃(𝐴∩𝐵)/𝑃(𝐵) $\n",
    "\n",
    " \n",
    "Example: The probability of drawing an ace from a deck, given that a card already drawn was a heart.\n",
    "\n",
    "## Combinatorics\n",
    "Combinatorics is a branch of mathematics that studies the counting, arrangement, and combination of objects. It is closely related to probability because it often helps determine the number of possible outcomes.\n",
    "\n",
    "### Key Concepts:\n",
    "\n",
    "- Permutations: The number of ways to arrange objects where the order matters.\n",
    "\n",
    "Formula for arranging 𝑛 distinct objects: \n",
    "$ 𝑃(𝑛)=𝑛! $ \n",
    "\n",
    "Example: The number of ways to arrange 3 letters (A, B, C) is $3!=6$\n",
    "\n",
    "- Combinations: The number of ways to choose objects where the order does not matter.\n",
    "\n",
    "Formula: \n",
    "$𝐶(𝑛,𝑘)=𝑛!/𝑘!(𝑛−𝑘)!$\n",
    "\n",
    " \n",
    "Example: The number of ways to choose 2 cards from a deck of 52: \n",
    "$𝐶(52,2)$\n",
    "\n",
    "## Bayesian Inference\n",
    "Bayesian inference is a method of statistical inference that applies Bayes' theorem to update the probability estimate for a hypothesis as more evidence or information becomes available. It is central to the Bayesian approach to statistics, which contrasts with the frequentist approach.\n",
    "\n",
    "Key Concepts:\n",
    "\n",
    "Bayes' Theorem: Used to find the probability of a hypothesis based on prior knowledge and new evidence.\n",
    "Formula: \n",
    "$ 𝑃(𝐻∣𝐸)=𝑃(𝐸∣𝐻)⋅𝑃(𝐻)/𝑃(𝐸) $\n",
    "\n",
    "​\n",
    " \n",
    "𝑃(𝐻∣𝐸): Posterior probability (the probability of the hypothesis given the evidence)\n",
    "𝑃(𝐻): Prior probability (the initial probability of the hypothesis)\n",
    "𝑃(𝐸∣𝐻): Likelihood (the probability of the evidence given the hypothesis)\n",
    "\n",
    "Example: Updating the probability of having a disease after receiving a positive test result.\n",
    "Distributions\n",
    "\n",
    "In probability and statistics, a distribution describes how the values of a random variable are spread or distributed. Different types of distributions are used to model different kinds of random events.\n",
    "\n",
    "### Key Types of Distributions:\n",
    "\n",
    "- Normal Distribution: Also known as the bell curve, it describes data that clusters around the mean symmetrically. Many real-world phenomena (e.g., heights, IQ scores) follow a normal distribution.\n",
    "Properties: Symmetrical, mean = median = mode.\n",
    "- Binomial Distribution: Models the number of successes in a fixed number of independent trials, where each trial has two possible outcomes (e.g., flipping a coin).\n",
    "Formula: \n",
    "$ 𝑃(𝑋=𝑘)=𝐶(𝑛,𝑘)⋅𝑝𝑘⋅(1−𝑝)^𝑛−𝑘 $\n",
    "\n",
    "- Poisson Distribution: Models the number of events occurring within a fixed interval of time or space.\n",
    "Example: The number of emails received in an hour.\n",
    "Probability in Other Fields\n",
    "Probability plays a role in various disciplines and fields:\n",
    "\n",
    "Economics and Finance:\n",
    "\n",
    "Probability is used to model uncertain events like stock market returns, economic fluctuations, or interest rate movements. Tools like stochastic processes and Markov chains help predict such behaviors.\n",
    "Machine Learning:\n",
    "\n",
    "Probability is at the heart of algorithms like Naive Bayes, Hidden Markov Models, and Gaussian Mixture Models. Bayesian networks are used to represent probabilistic relationships between variables.\n",
    "Physics:\n",
    "\n",
    "In quantum mechanics, probability is used to describe the likelihood of particle states and events. For example, the probability distribution of a particle's position is fundamental to the theory.\n",
    "Genetics:\n",
    "\n",
    "In genetics, probability is used to predict inheritance patterns, mutations, and evolutionary changes. Tools like Punnett squares help visualize genetic outcomes.\n",
    "In summary:\n",
    "\n",
    "Probability quantifies uncertainty.\n",
    "Combinatorics helps calculate possible outcomes.\n",
    "Bayesian Inference updates beliefs based on evidence.\n",
    "Distributions model the likelihood of various outcomes.\n",
    "Probability in other fields extends the concept to finance, physics, machine learning, and more.\n",
    "\n",
    "\n",
    "\n",
    "\n",
    "\n"
   ]
  },
  {
   "cell_type": "code",
   "execution_count": 6,
   "id": "eed89547-91cd-4eaa-9bdb-1998b926c4dc",
   "metadata": {},
   "outputs": [],
   "source": [
    "import pandas as pd\n",
    "import numpy as np\n",
    "from scipy.stats import binom, poisson\n",
    "from math import comb, factorial"
   ]
  },
  {
   "cell_type": "code",
   "execution_count": 10,
   "id": "7ae0fdbe-92dc-4684-9ef9-abf815bb2598",
   "metadata": {},
   "outputs": [
    {
     "data": {
      "text/html": [
       "<div>\n",
       "<style scoped>\n",
       "    .dataframe tbody tr th:only-of-type {\n",
       "        vertical-align: middle;\n",
       "    }\n",
       "\n",
       "    .dataframe tbody tr th {\n",
       "        vertical-align: top;\n",
       "    }\n",
       "\n",
       "    .dataframe thead th {\n",
       "        text-align: right;\n",
       "    }\n",
       "</style>\n",
       "<table border=\"1\" class=\"dataframe\">\n",
       "  <thead>\n",
       "    <tr style=\"text-align: right;\">\n",
       "      <th></th>\n",
       "      <th>Campaign ID</th>\n",
       "      <th>Budget (USD)</th>\n",
       "      <th>Clicks</th>\n",
       "      <th>Impressions</th>\n",
       "      <th>Conversions</th>\n",
       "      <th>Region</th>\n",
       "      <th>Date</th>\n",
       "    </tr>\n",
       "  </thead>\n",
       "  <tbody>\n",
       "    <tr>\n",
       "      <th>0</th>\n",
       "      <td>1</td>\n",
       "      <td>8270</td>\n",
       "      <td>1943</td>\n",
       "      <td>92747</td>\n",
       "      <td>386</td>\n",
       "      <td>South</td>\n",
       "      <td>2023-01-01</td>\n",
       "    </tr>\n",
       "    <tr>\n",
       "      <th>1</th>\n",
       "      <td>2</td>\n",
       "      <td>1860</td>\n",
       "      <td>588</td>\n",
       "      <td>63752</td>\n",
       "      <td>460</td>\n",
       "      <td>South</td>\n",
       "      <td>2023-01-02</td>\n",
       "    </tr>\n",
       "    <tr>\n",
       "      <th>2</th>\n",
       "      <td>3</td>\n",
       "      <td>6390</td>\n",
       "      <td>3076</td>\n",
       "      <td>57573</td>\n",
       "      <td>347</td>\n",
       "      <td>East</td>\n",
       "      <td>2023-01-03</td>\n",
       "    </tr>\n",
       "    <tr>\n",
       "      <th>3</th>\n",
       "      <td>4</td>\n",
       "      <td>6191</td>\n",
       "      <td>2059</td>\n",
       "      <td>60101</td>\n",
       "      <td>189</td>\n",
       "      <td>East</td>\n",
       "      <td>2023-01-04</td>\n",
       "    </tr>\n",
       "    <tr>\n",
       "      <th>4</th>\n",
       "      <td>5</td>\n",
       "      <td>6734</td>\n",
       "      <td>2485</td>\n",
       "      <td>27646</td>\n",
       "      <td>190</td>\n",
       "      <td>East</td>\n",
       "      <td>2023-01-05</td>\n",
       "    </tr>\n",
       "    <tr>\n",
       "      <th>...</th>\n",
       "      <td>...</td>\n",
       "      <td>...</td>\n",
       "      <td>...</td>\n",
       "      <td>...</td>\n",
       "      <td>...</td>\n",
       "      <td>...</td>\n",
       "      <td>...</td>\n",
       "    </tr>\n",
       "    <tr>\n",
       "      <th>195</th>\n",
       "      <td>196</td>\n",
       "      <td>7546</td>\n",
       "      <td>4648</td>\n",
       "      <td>14116</td>\n",
       "      <td>251</td>\n",
       "      <td>North</td>\n",
       "      <td>2023-07-15</td>\n",
       "    </tr>\n",
       "    <tr>\n",
       "      <th>196</th>\n",
       "      <td>197</td>\n",
       "      <td>2986</td>\n",
       "      <td>3059</td>\n",
       "      <td>26470</td>\n",
       "      <td>225</td>\n",
       "      <td>North</td>\n",
       "      <td>2023-07-16</td>\n",
       "    </tr>\n",
       "    <tr>\n",
       "      <th>197</th>\n",
       "      <td>198</td>\n",
       "      <td>9338</td>\n",
       "      <td>2365</td>\n",
       "      <td>43344</td>\n",
       "      <td>293</td>\n",
       "      <td>South</td>\n",
       "      <td>2023-07-17</td>\n",
       "    </tr>\n",
       "    <tr>\n",
       "      <th>198</th>\n",
       "      <td>199</td>\n",
       "      <td>3911</td>\n",
       "      <td>2579</td>\n",
       "      <td>43918</td>\n",
       "      <td>305</td>\n",
       "      <td>North</td>\n",
       "      <td>2023-07-18</td>\n",
       "    </tr>\n",
       "    <tr>\n",
       "      <th>199</th>\n",
       "      <td>200</td>\n",
       "      <td>2734</td>\n",
       "      <td>4746</td>\n",
       "      <td>53224</td>\n",
       "      <td>97</td>\n",
       "      <td>South</td>\n",
       "      <td>2023-07-19</td>\n",
       "    </tr>\n",
       "  </tbody>\n",
       "</table>\n",
       "<p>200 rows × 7 columns</p>\n",
       "</div>"
      ],
      "text/plain": [
       "     Campaign ID  Budget (USD)  Clicks  Impressions  Conversions Region  \\\n",
       "0              1          8270    1943        92747          386  South   \n",
       "1              2          1860     588        63752          460  South   \n",
       "2              3          6390    3076        57573          347   East   \n",
       "3              4          6191    2059        60101          189   East   \n",
       "4              5          6734    2485        27646          190   East   \n",
       "..           ...           ...     ...          ...          ...    ...   \n",
       "195          196          7546    4648        14116          251  North   \n",
       "196          197          2986    3059        26470          225  North   \n",
       "197          198          9338    2365        43344          293  South   \n",
       "198          199          3911    2579        43918          305  North   \n",
       "199          200          2734    4746        53224           97  South   \n",
       "\n",
       "           Date  \n",
       "0    2023-01-01  \n",
       "1    2023-01-02  \n",
       "2    2023-01-03  \n",
       "3    2023-01-04  \n",
       "4    2023-01-05  \n",
       "..          ...  \n",
       "195  2023-07-15  \n",
       "196  2023-07-16  \n",
       "197  2023-07-17  \n",
       "198  2023-07-18  \n",
       "199  2023-07-19  \n",
       "\n",
       "[200 rows x 7 columns]"
      ]
     },
     "execution_count": 10,
     "metadata": {},
     "output_type": "execute_result"
    }
   ],
   "source": [
    "# Load the dataset into a pandas DataFrame\n",
    "df = pd.read_csv(\"marketing_company_data.csv\")\n",
    "df"
   ]
  },
  {
   "cell_type": "code",
   "execution_count": 16,
   "id": "9b690508-fb0e-4526-a8ec-56904cb1db1d",
   "metadata": {},
   "outputs": [],
   "source": [
    "# Convert date column to datetime for easier handling\n",
    "df['Date'] = pd.to_datetime(df['Date'])"
   ]
  },
  {
   "cell_type": "code",
   "execution_count": 18,
   "id": "d1cfffde-4276-4e98-aca1-4ae4844c9800",
   "metadata": {},
   "outputs": [
    {
     "name": "stdout",
     "output_type": "stream",
     "text": [
      "1. P(Conversions > 400): 0.1950\n"
     ]
    }
   ],
   "source": [
    "# 1. Basic Probability: Probability of a campaign having more than 400 conversions\n",
    "total_campaigns = len(df)\n",
    "campaigns_with_more_than_400_conversions = df[df['Conversions'] > 400].shape[0]\n",
    "P_more_than_400_conversions = campaigns_with_more_than_400_conversions / total_campaigns\n",
    "\n",
    "print(f\"1. P(Conversions > 400): {P_more_than_400_conversions:.4f}\")\n",
    "\n"
   ]
  },
  {
   "cell_type": "code",
   "execution_count": 20,
   "id": "58d94179-42a2-4c6a-9767-5df8e99e3ad2",
   "metadata": {},
   "outputs": [
    {
     "name": "stdout",
     "output_type": "stream",
     "text": [
      "2. P(Conversions <= 400): 0.8050\n"
     ]
    }
   ],
   "source": [
    "# 2. Complementary Probability: Probability of a campaign having less than or equal to 400 conversions\n",
    "P_less_equal_400_conversions = 1 - P_more_than_400_conversions\n",
    "\n",
    "print(f\"2. P(Conversions <= 400): {P_less_equal_400_conversions:.4f}\")\n"
   ]
  },
  {
   "cell_type": "code",
   "execution_count": 22,
   "id": "cea0ee95-4097-46f6-ae06-273d16fddc68",
   "metadata": {},
   "outputs": [
    {
     "name": "stdout",
     "output_type": "stream",
     "text": [
      "3. P(Conversions > 300 | South): 0.4259\n"
     ]
    }
   ],
   "source": [
    "# 3. Conditional Probability: Probability of more than 300 conversions given the campaign is in the South region\n",
    "south_campaigns = df[df['Region'] == 'South']\n",
    "south_campaigns_with_more_than_300_conversions = south_campaigns[south_campaigns['Conversions'] > 300].shape[0]\n",
    "P_more_than_300_given_south = south_campaigns_with_more_than_300_conversions / len(south_campaigns)\n",
    "\n",
    "print(f\"3. P(Conversions > 300 | South): {P_more_than_300_given_south:.4f}\")\n"
   ]
  },
  {
   "cell_type": "code",
   "execution_count": 24,
   "id": "91990090-bf9a-4dd3-a20b-af7031bcf795",
   "metadata": {},
   "outputs": [
    {
     "name": "stdout",
     "output_type": "stream",
     "text": [
      "4. P(exactly 3 successful campaigns out of 5): 0.3441\n"
     ]
    }
   ],
   "source": [
    "# 4. Binomial Distribution: Probability of getting exactly 3 successful campaigns out of 5 (success is defined as more than 200 conversions)\n",
    "successful_campaigns = df[df['Conversions'] > 200].shape[0]\n",
    "P_success = successful_campaigns / total_campaigns  # Probability of success (Conversions > 200)\n",
    "\n",
    "n = 5  # Number of trials\n",
    "k = 3  # Number of successes\n",
    "P_binom_3_successes = binom.pmf(k, n, P_success)\n",
    "\n",
    "print(f\"4. P(exactly 3 successful campaigns out of 5): {P_binom_3_successes:.4f}\")\n"
   ]
  },
  {
   "cell_type": "code",
   "execution_count": 26,
   "id": "fef86ec0-8ed3-4e27-92fe-978e13efaaf3",
   "metadata": {},
   "outputs": [
    {
     "name": "stdout",
     "output_type": "stream",
     "text": [
      "5. P(exactly 5 campaigns with more than 1000 clicks per day): 0.0031\n"
     ]
    }
   ],
   "source": [
    "# 5. Poisson Distribution: Probability of observing exactly 5 campaigns with more than 1000 clicks per day\n",
    "campaigns_with_more_than_1000_clicks_per_day = df[df['Clicks'] > 1000].groupby(df['Date'].dt.date).size()\n",
    "lambda_clicks = campaigns_with_more_than_1000_clicks_per_day.mean()  # Average number of campaigns with > 1000 clicks per day\n",
    "k_clicks = 5\n",
    "P_poisson_5_clicks = poisson.pmf(k_clicks, lambda_clicks)\n",
    "\n",
    "print(f\"5. P(exactly 5 campaigns with more than 1000 clicks per day): {P_poisson_5_clicks:.4f}\")\n"
   ]
  },
  {
   "cell_type": "code",
   "execution_count": 28,
   "id": "63cb8447-b69e-4115-96f5-55405429d414",
   "metadata": {},
   "outputs": [
    {
     "ename": "ZeroDivisionError",
     "evalue": "float division by zero",
     "output_type": "error",
     "traceback": [
      "\u001b[1;31m---------------------------------------------------------------------------\u001b[0m",
      "\u001b[1;31mZeroDivisionError\u001b[0m                         Traceback (most recent call last)",
      "Cell \u001b[1;32mIn[28], line 7\u001b[0m\n\u001b[0;32m      4\u001b[0m likelihood_500_given_success \u001b[38;5;241m=\u001b[39m south_campaigns[south_campaigns[\u001b[38;5;124m'\u001b[39m\u001b[38;5;124mConversions\u001b[39m\u001b[38;5;124m'\u001b[39m] \u001b[38;5;241m==\u001b[39m \u001b[38;5;241m500\u001b[39m]\u001b[38;5;241m.\u001b[39mshape[\u001b[38;5;241m0\u001b[39m] \u001b[38;5;241m/\u001b[39m successful_campaigns\n\u001b[0;32m      5\u001b[0m P_500 \u001b[38;5;241m=\u001b[39m df[df[\u001b[38;5;124m'\u001b[39m\u001b[38;5;124mConversions\u001b[39m\u001b[38;5;124m'\u001b[39m] \u001b[38;5;241m==\u001b[39m \u001b[38;5;241m500\u001b[39m]\u001b[38;5;241m.\u001b[39mshape[\u001b[38;5;241m0\u001b[39m] \u001b[38;5;241m/\u001b[39m total_campaigns  \u001b[38;5;66;03m# Overall probability of observing 500 conversions\u001b[39;00m\n\u001b[1;32m----> 7\u001b[0m posterior_P_success_given_500 \u001b[38;5;241m=\u001b[39m (likelihood_500_given_success \u001b[38;5;241m*\u001b[39m prior_P_success_south) \u001b[38;5;241m/\u001b[39m P_500\n\u001b[0;32m      9\u001b[0m \u001b[38;5;28mprint\u001b[39m(\u001b[38;5;124mf\u001b[39m\u001b[38;5;124m\"\u001b[39m\u001b[38;5;124m6. Updated P(Success | 500 conversions): \u001b[39m\u001b[38;5;132;01m{\u001b[39;00mposterior_P_success_given_500\u001b[38;5;132;01m:\u001b[39;00m\u001b[38;5;124m.4f\u001b[39m\u001b[38;5;132;01m}\u001b[39;00m\u001b[38;5;124m\"\u001b[39m)\n",
      "\u001b[1;31mZeroDivisionError\u001b[0m: float division by zero"
     ]
    }
   ],
   "source": [
    "# 6. Bayesian Inference: Update probability of success given that a campaign from the South had 500 conversions\n",
    "prior_P_success_south = 0.70  # Prior probability (given)\n",
    "# Assume likelihood and marginal probability are based on the dataset:\n",
    "likelihood_500_given_success = south_campaigns[south_campaigns['Conversions'] == 500].shape[0] / successful_campaigns\n",
    "P_500 = df[df['Conversions'] == 500].shape[0] / total_campaigns  # Overall probability of observing 500 conversions\n",
    "\n",
    "posterior_P_success_given_500 = (likelihood_500_given_success * prior_P_success_south) / P_500\n",
    "\n",
    "print(f\"6. Updated P(Success | 500 conversions): {posterior_P_success_given_500:.4f}\")\n"
   ]
  },
  {
   "cell_type": "code",
   "execution_count": 30,
   "id": "4ed7aac6-398d-4c7b-b65a-62ba94c40037",
   "metadata": {},
   "outputs": [
    {
     "name": "stdout",
     "output_type": "stream",
     "text": [
      "7. Number of ways to choose 5 campaigns: 2535650040\n"
     ]
    }
   ],
   "source": [
    "# 7. Combinatorics: Number of ways to choose 5 campaigns from the dataset\n",
    "n_campaigns = total_campaigns\n",
    "k_choice = 5\n",
    "num_ways_to_choose_5_campaigns = comb(n_campaigns, k_choice)\n",
    "\n",
    "print(f\"7. Number of ways to choose 5 campaigns: {num_ways_to_choose_5_campaigns}\")\n"
   ]
  },
  {
   "cell_type": "code",
   "execution_count": 32,
   "id": "1732d0fe-1e7c-493e-8531-3013d78d6bcc",
   "metadata": {},
   "outputs": [
    {
     "name": "stdout",
     "output_type": "stream",
     "text": [
      "8. Conversions Distribution - Mean: 250.2700, Std Dev: 139.3054\n"
     ]
    }
   ],
   "source": [
    "# 8. Distribution Fitting: Fit normal distribution on the 'Conversions' column\n",
    "mean_conversions = df['Conversions'].mean()\n",
    "std_conversions = df['Conversions'].std()\n",
    "\n",
    "print(f\"8. Conversions Distribution - Mean: {mean_conversions:.4f}, Std Dev: {std_conversions:.4f}\")"
   ]
  },
  {
   "cell_type": "code",
   "execution_count": null,
   "id": "c3c91d30-f07b-45b0-99f1-73a1bbbf7983",
   "metadata": {},
   "outputs": [],
   "source": []
  }
 ],
 "metadata": {
  "kernelspec": {
   "display_name": "Python 3 (ipykernel)",
   "language": "python",
   "name": "python3"
  },
  "language_info": {
   "codemirror_mode": {
    "name": "ipython",
    "version": 3
   },
   "file_extension": ".py",
   "mimetype": "text/x-python",
   "name": "python",
   "nbconvert_exporter": "python",
   "pygments_lexer": "ipython3",
   "version": "3.12.4"
  }
 },
 "nbformat": 4,
 "nbformat_minor": 5
}
